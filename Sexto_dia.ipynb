{
 "cells": [
  {
   "cell_type": "code",
   "execution_count": 59,
   "metadata": {},
   "outputs": [],
   "source": [
    "import pandas as pd\n",
    "import requests as rq\n",
    "import json\n",
    "\n",
    "arq = \"https://raw.githubusercontent.com/FranciscoFoz/7_Days_of_Code_Alura-Python-Pandas/main/Dia_6-Novos_dados_novas_analises/Datasets/cadastro_alunos.json\"\n",
    "\n",
    "#Resposta = rq.get(arq)\n",
    "\n",
    "df = pd.read_json(arq)# importa um arquivo json\n",
    "\n",
    "\n",
    "df_Graduacao = pd.read_json(df.registros[0])#o arquivo json tinha outros 2 dentro dele, então, peguei o da linha 0 e reimportei\n",
    "df_POSGraduacao = pd.read_json(df.registros[1])# registros é o nome da coluna que estava o conteudo dos json, na linha 0 e 1\n",
    "df_todos = df_Graduacao.merge(df_POSGraduacao, how=\"outer\")#uni os dois dataframe, acrescentando o POSgradução no final do Graduação\n",
    "df_todos[\"matricula_ou_siape\"] = df_todos[\"matricula_ou_siape\"].astype(str)"
   ]
  },
  {
   "cell_type": "code",
   "execution_count": 62,
   "metadata": {},
   "outputs": [],
   "source": [
    "df_excel = pd.read_excel(\"matricula_alunos.xlsx\")# importei o arquivo excel\n",
    "df_excel.columns = df_excel.iloc[0] # defini a linha 0 como coluna\n",
    "df_excel = df_excel[1:]#agrega os valores iniciando da linha 1 a linha 0 virou coluna então pode ser descartada\n",
    "df_excel[\"Número da matrícula\"] = df_excel[\"Número da matrícula\"].str.replace('.0', '')#troca o \".0\" da coluna por \"\", só funciona em str\n"
   ]
  },
  {
   "cell_type": "code",
   "execution_count": 63,
   "metadata": {},
   "outputs": [],
   "source": [
    "df_excel.rename(columns={\"Número da matrícula\":\"matricula_ou_siape\", \"Tipo de vinculo\":\"tipo_vinculo_usuario\", \"Curso\":\"curso\"}, inplace=True)\n",
    "#troca de nome das colunas para fazer o merge\n",
    "df_todos = df_todos.merge(df_excel, how=\"outer\")# merge para unir as duas tabelas"
   ]
  }
 ],
 "metadata": {
  "kernelspec": {
   "display_name": "Python 3",
   "language": "python",
   "name": "python3"
  },
  "language_info": {
   "codemirror_mode": {
    "name": "ipython",
    "version": 3
   },
   "file_extension": ".py",
   "mimetype": "text/x-python",
   "name": "python",
   "nbconvert_exporter": "python",
   "pygments_lexer": "ipython3",
   "version": "3.10.3"
  }
 },
 "nbformat": 4,
 "nbformat_minor": 2
}
